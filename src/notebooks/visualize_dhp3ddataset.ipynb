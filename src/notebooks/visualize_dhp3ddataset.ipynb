{
 "cells": [
  {
   "cell_type": "code",
   "execution_count": null,
   "metadata": {},
   "outputs": [],
   "source": [
    "%cd .."
   ]
  },
  {
   "cell_type": "code",
   "execution_count": 2,
   "metadata": {},
   "outputs": [],
   "source": [
    "from experimenting.dataset import DHP3DDataset, get_dataloader\n",
    "from experimenting.dataset.indexes import get_dataset_params\n",
    "from matplotlib import pyplot as plt\n",
    "import numpy as np\n",
    "from albumentations import Compose, CenterCrop\n",
    "from albumentations.pytorch import ToTensor\n",
    "import torch\n",
    "from importlib import reload  \n",
    "from omegaconf import DictConfig\n",
    "\n",
    "%matplotlib inline"
   ]
  },
  {
   "cell_type": "code",
   "execution_count": 3,
   "metadata": {},
   "outputs": [],
   "source": [
    "def display(img):          \n",
    "        fig, ax = plt.subplots(ncols=img.shape[0], nrows=1,                              \n",
    "                               figsize=(20,20))                                                                                   \n",
    "        for i in range(img.shape[0]):                                                                \n",
    "            ax[i].imshow(img[i])                                                  \n",
    "            ax[i].axis('off')\n",
    "        plt.show()"
   ]
  },
  {
   "cell_type": "code",
   "execution_count": 4,
   "metadata": {},
   "outputs": [],
   "source": [
    "def plot_2d(dvs_frame, sample_gt, sample_pred):\n",
    "    \" To plot image and 2D ground truth and prediction \"\n",
    "    plt.figure()\n",
    "    plt.imshow(dvs_frame, cmap='gray')\n",
    "    plt.plot(sample_gt[:,1], sample_gt[:,0], '.', c='red', label='gt')\n",
    "    plt.plot(sample_pred[:,1], sample_pred[:,0], '.', c='blue', label='pred')\n",
    "    plt.legend()"
   ]
  },
  {
   "cell_type": "markdown",
   "metadata": {},
   "source": [
    "## "
   ]
  },
  {
   "cell_type": "code",
   "execution_count": 5,
   "metadata": {},
   "outputs": [],
   "source": [
    "# Augmentation\n",
    "aug = Compose([CenterCrop(256, 256), ToTensor()])"
   ]
  },
  {
   "cell_type": "code",
   "execution_count": 8,
   "metadata": {},
   "outputs": [
    {
     "name": "stdout",
     "output_type": "stream",
     "text": [
      ".npy|.mat\n"
     ]
    }
   ],
   "source": [
    "data_dir = '/data/dhp19/time_count_dataset/movements_per_frame'\n",
    "labels_dir = '/data/dhp19/time_count_dataset/labels'\n",
    "test_subjects = [1, 8, 11, 15]\n",
    "cams = [2]\n",
    "\n",
    "hparams = DictConfig({'data_dir': data_dir, 'save_split':False, 'labels_dir' : labels_dir, 'test_subjects':test_subjects, 'cams': cams})\n",
    "params = get_dataset_params(hparams)"
   ]
  },
  {
   "cell_type": "code",
   "execution_count": 9,
   "metadata": {},
   "outputs": [],
   "source": [
    "d = DHP3DDataset(params['file_paths'], labels_dir, params['test_indexes'], transform=aug)\n",
    "loader = get_dataloader(d, 32, 2)"
   ]
  },
  {
   "cell_type": "code",
   "execution_count": 10,
   "metadata": {},
   "outputs": [],
   "source": [
    "batch = next(iter(loader))\n",
    "x, y = batch"
   ]
  },
  {
   "cell_type": "code",
   "execution_count": 11,
   "metadata": {},
   "outputs": [
    {
     "data": {
      "text/plain": [
       "<matplotlib.image.AxesImage at 0x7f877fa3e9d0>"
      ]
     },
     "execution_count": 11,
     "metadata": {},
     "output_type": "execute_result"
    },
    {
     "data": {
      "image/png": "[encoded data removed]",
      "text/plain": [
       "<Figure size 432x288 with 1 Axes>"
      ]
     },
     "metadata": {
      "needs_background": "light"
     },
     "output_type": "display_data"
    }
   ],
   "source": [
    "plt.imshow(x[1].squeeze())"
   ]
  },
  {
   "cell_type": "code",
   "execution_count": 12,
   "metadata": {},
   "outputs": [
    {
     "data": {
      "image/png": "[encoded data removed]",
      "text/plain": [
       "<Figure size 1440x1440 with 13 Axes>"
      ]
     },
     "metadata": {
      "needs_background": "light"
     },
     "output_type": "display_data"
    }
   ],
   "source": [
    "display(y[1].numpy())"
   ]
  },
  {
   "cell_type": "markdown",
   "metadata": {},
   "source": [
    "## Loaded model for 2d heatmap prediction"
   ]
  },
  {
   "cell_type": "code",
   "execution_count": 16,
   "metadata": {},
   "outputs": [],
   "source": [
    "import experimenting.models as models\n",
    "import os\n",
    "import experimenting.models.metrics as metrics\n",
    "import experimenting.models.losses as losses\n",
    "from experimenting.models.dsnt import average_loss\n",
    "from experimenting.utils import get_joints_from_heatmap\n",
    "\n",
    "exp_name = 'exps_unet_resnet34/exp_SGD_0.01_randomcrop_hflip_aug_05-20-08-45'\n",
    "checkpoint_dir = f'/home/gianscarpe/dev/exps/timecount_pose/{exp_name}/checkpoints'\n",
    "checkpoints = sorted(os.listdir(checkpoint_dir))\n",
    "checkpoint_path = os.path.join(checkpoint_dir, checkpoints[0])\n",
    "model = models.PoseEstimator.load_from_checkpoint(checkpoint_path)\n",
    "model = model.eval()"
   ]
  },
  {
   "cell_type": "code",
   "execution_count": 17,
   "metadata": {},
   "outputs": [],
   "source": [
    "loss = losses.PixelWiseLoss('mask_mean')"
   ]
  },
  {
   "cell_type": "code",
   "execution_count": 18,
   "metadata": {},
   "outputs": [
    {
     "name": "stderr",
     "output_type": "stream",
     "text": [
      "/home/gianscarpe/anaconda3/envs/event-camera/lib/python3.7/site-packages/torch/nn/functional.py:2875: UserWarning: The default behavior for interpolate/upsample with float scale_factor will change in 1.6.0 to align with other frameworks/libraries, and use scale_factor directly, instead of relying on the computed output size. If you wish to keep the old behavior, please set recompute_scale_factor=True. See the documentation of nn.Upsample for details. \n",
      "  warnings.warn(\"The default behavior for interpolate/upsample with float scale_factor will change \"\n"
     ]
    }
   ],
   "source": [
    "with torch.no_grad():\n",
    "    preds = model(x)"
   ]
  },
  {
   "cell_type": "code",
   "execution_count": 19,
   "metadata": {},
   "outputs": [],
   "source": [
    "gt_joints, _ = get_joints_from_heatmap(y)\n",
    "p_joints, p_conf = get_joints_from_heatmap(preds)"
   ]
  },
  {
   "cell_type": "code",
   "execution_count": 20,
   "metadata": {},
   "outputs": [
    {
     "data": {
      "image/png": "[encoded data removed]",
      "text/plain": [
       "<Figure size 1440x1440 with 13 Axes>"
      ]
     },
     "metadata": {
      "needs_background": "light"
     },
     "output_type": "display_data"
    },
    {
     "data": {
      "image/png": "[encoded data removed]",
      "text/plain": [
       "<Figure size 1440x1440 with 13 Axes>"
      ]
     },
     "metadata": {
      "needs_background": "light"
     },
     "output_type": "display_data"
    },
    {
     "data": {
      "image/png": "[encoded data removed]",
      "text/plain": [
       "<Figure size 432x288 with 1 Axes>"
      ]
     },
     "metadata": {
      "needs_background": "light"
     },
     "output_type": "display_data"
    }
   ],
   "source": [
    "display(preds[2].numpy())\n",
    "display(y[2].numpy())\n",
    "plot_2d(x[2].squeeze(), gt_joints[2], p_joints[2])"
   ]
  },
  {
   "cell_type": "code",
   "execution_count": 22,
   "metadata": {},
   "outputs": [
    {
     "data": {
      "image/png": "[encoded data removed]",
      "text/plain": [
       "<Figure size 432x288 with 1 Axes>"
      ]
     },
     "metadata": {
      "needs_background": "light"
     },
     "output_type": "display_data"
    }
   ],
   "source": [
    "for i in range(0, 1):\n",
    "    plot_2d(x[i].squeeze(), gt_joints[i], p_joints[i])"
   ]
  },
  {
   "cell_type": "code",
   "execution_count": 23,
   "metadata": {},
   "outputs": [],
   "source": [
    "# Kornia based"
   ]
  },
  {
   "cell_type": "code",
   "execution_count": 24,
   "metadata": {},
   "outputs": [],
   "source": [
    "import kornia"
   ]
  },
  {
   "cell_type": "code",
   "execution_count": 39,
   "metadata": {},
   "outputs": [],
   "source": [
    "from kornia.geometry import dsnt\n",
    "from kornia.geometry import *"
   ]
  },
  {
   "cell_type": "code",
   "execution_count": 194,
   "metadata": {},
   "outputs": [],
   "source": [
    "joints = dsnt.spatial_expectation2d(preds, True)\n",
    "mw = 255\n",
    "my = 255"
   ]
  },
  {
   "cell_type": "code",
   "execution_count": 215,
   "metadata": {},
   "outputs": [],
   "source": [
    "p = torch.zeros_like(gt_joints) # GT (can be loaded as list of coordinates, see kornia_dsnt)\n",
    "p[:, :, 0] = p_joints[:, :, 1]\n",
    "p[:, :, 1] = p_joints[:, :, 0]\n",
    "p = p.type(torch.float)"
   ]
  },
  {
   "cell_type": "code",
   "execution_count": 195,
   "metadata": {},
   "outputs": [
    {
     "data": {
      "text/plain": [
       "tensor([[-0.2795, -0.6487],\n",
       "        [-0.1763, -0.4556],\n",
       "        [-0.4526, -0.4360],\n",
       "        [-0.1627, -0.2499],\n",
       "        [-0.4830, -0.1862],\n",
       "        [-0.1576, -0.1594],\n",
       "        [-0.2919, -0.1192],\n",
       "        [-0.0973, -0.0451],\n",
       "        [-0.4367,  0.0540],\n",
       "        [-0.2422,  0.3066],\n",
       "        [-0.2417,  0.4528],\n",
       "        [-0.3436,  0.6742],\n",
       "        [-0.1561,  0.7429]])"
      ]
     },
     "execution_count": 195,
     "metadata": {},
     "output_type": "execute_result"
    }
   ],
   "source": [
    "joints[0]"
   ]
  },
  {
   "cell_type": "code",
   "execution_count": 231,
   "metadata": {},
   "outputs": [],
   "source": [
    "joints = dsnt.spatial_expectation2d(preds, True)\n",
    "hm = render_gaussian2d(joints, torch.tensor([0.01, 0.01], dtype=torch.float), torch.tensor([255, 255]))"
   ]
  },
  {
   "cell_type": "code",
   "execution_count": 232,
   "metadata": {},
   "outputs": [
    {
     "data": {
      "image/png": "[encoded data removed]",
      "text/plain": [
       "<Figure size 1440x1440 with 13 Axes>"
      ]
     },
     "metadata": {
      "needs_background": "light"
     },
     "output_type": "display_data"
    }
   ],
   "source": [
    "display(hm[0])"
   ]
  },
  {
   "cell_type": "code",
   "execution_count": 233,
   "metadata": {},
   "outputs": [
    {
     "data": {
      "text/plain": [
       "tensor(0.0010)"
      ]
     },
     "execution_count": 233,
     "metadata": {},
     "output_type": "execute_result"
    }
   ],
   "source": [
    "hm[0].max()"
   ]
  },
  {
   "cell_type": "code",
   "execution_count": 293,
   "metadata": {},
   "outputs": [],
   "source": [
    "x = np.load('/data/dhp19/time_count_dataset/movements_per_frame/S1_session_1_mov_1_frame_10_cam_2.npy')\n",
    "l1 = np.load('/data/dhp19/time_count_dataset/labels_joints/S1_session_1_mov_1_frame_10_cam_2_2dhm.npz')['joints']"
   ]
  },
  {
   "cell_type": "code",
   "execution_count": 295,
   "metadata": {},
   "outputs": [
    {
     "data": {
      "image/png": "[encoded data removed]",
      "text/plain": [
       "<Figure size 432x288 with 1 Axes>"
      ]
     },
     "metadata": {
      "needs_background": "light"
     },
     "output_type": "display_data"
    }
   ],
   "source": [
    "plot_2d(x.squeeze(),l1, l1)"
   ]
  },
  {
   "cell_type": "code",
   "execution_count": 345,
   "metadata": {},
   "outputs": [],
   "source": [
    "l1_norm = normalize_pixel_coordinates(torch.tensor(l1), 342, 300 )\n",
    "hm = render_gaussian2d(l1_norm, torch.tensor([0.001, 0.001], dtype=torch.float), torch.tensor([256, 256]))"
   ]
  },
  {
   "cell_type": "code",
   "execution_count": 365,
   "metadata": {},
   "outputs": [
    {
     "data": {
      "text/plain": [
       "tensor([[-0.7458, -0.1261],\n",
       "        [-0.4983, -0.2258],\n",
       "        [-0.5652, -0.1261],\n",
       "        [-0.2776, -0.2375],\n",
       "        [-0.6120, -0.0147],\n",
       "        [-0.2040, -0.1378],\n",
       "        [-0.2508, -0.0440],\n",
       "        [-0.0702, -0.1789],\n",
       "        [-0.8194,  0.0440],\n",
       "        [ 0.0769, -0.0909],\n",
       "        [ 0.0502, -0.0557],\n",
       "        [ 0.3378, -0.0616],\n",
       "        [ 0.3043, -0.0205]])"
      ]
     },
     "execution_count": 365,
     "metadata": {},
     "output_type": "execute_result"
    }
   ],
   "source": [
    "l1_norm"
   ]
  },
  {
   "cell_type": "code",
   "execution_count": 366,
   "metadata": {},
   "outputs": [
    {
     "ename": "ValueError",
     "evalue": "Invalid input shape, we expect BxCxHxW. Got: torch.Size([13, 256, 256])",
     "output_type": "error",
     "traceback": [
      "\u001b[0;31m---------------------------------------------------------------------------\u001b[0m",
      "\u001b[0;31mValueError\u001b[0m                                Traceback (most recent call last)",
      "\u001b[0;32m<ipython-input-366-2e735c18a98e>\u001b[0m in \u001b[0;36m<module>\u001b[0;34m\u001b[0m\n\u001b[1;32m      1\u001b[0m \u001b[0mtest\u001b[0m \u001b[0;34m=\u001b[0m \u001b[0mhm\u001b[0m\u001b[0;34m.\u001b[0m\u001b[0munsqueeze\u001b[0m\u001b[0;34m(\u001b[0m\u001b[0;36m0\u001b[0m\u001b[0;34m)\u001b[0m \u001b[0;34m/\u001b[0m \u001b[0mhm\u001b[0m\u001b[0;34m.\u001b[0m\u001b[0mmax\u001b[0m\u001b[0;34m(\u001b[0m\u001b[0;34m)\u001b[0m\u001b[0;34m\u001b[0m\u001b[0;34m\u001b[0m\u001b[0m\n\u001b[0;32m----> 2\u001b[0;31m \u001b[0mjoints\u001b[0m \u001b[0;34m=\u001b[0m \u001b[0mdsnt\u001b[0m\u001b[0;34m.\u001b[0m\u001b[0mspatial_expectation2d\u001b[0m\u001b[0;34m(\u001b[0m\u001b[0mhm\u001b[0m\u001b[0;34m,\u001b[0m \u001b[0;32mFalse\u001b[0m\u001b[0;34m)\u001b[0m\u001b[0;34m\u001b[0m\u001b[0;34m\u001b[0m\u001b[0m\n\u001b[0m",
      "\u001b[0;32m~/anaconda3/envs/event-camera/lib/python3.7/site-packages/kornia/geometry/dsnt.py\u001b[0m in \u001b[0;36mspatial_expectation2d\u001b[0;34m(input, normalized_coordinates)\u001b[0m\n\u001b[1;32m     82\u001b[0m         \u001b[0mtensor\u001b[0m\u001b[0;34m(\u001b[0m\u001b[0;34m[\u001b[0m\u001b[0;34m[\u001b[0m\u001b[0;34m[\u001b[0m\u001b[0;36m1.0000\u001b[0m\u001b[0;34m,\u001b[0m \u001b[0;36m2.0000\u001b[0m\u001b[0;34m]\u001b[0m\u001b[0;34m]\u001b[0m\u001b[0;34m]\u001b[0m\u001b[0;34m)\u001b[0m\u001b[0;34m\u001b[0m\u001b[0;34m\u001b[0m\u001b[0m\n\u001b[1;32m     83\u001b[0m     \"\"\"\n\u001b[0;32m---> 84\u001b[0;31m     \u001b[0m_validate_batched_image_tensor_input\u001b[0m\u001b[0;34m(\u001b[0m\u001b[0minput\u001b[0m\u001b[0;34m)\u001b[0m\u001b[0;34m\u001b[0m\u001b[0;34m\u001b[0m\u001b[0m\n\u001b[0m\u001b[1;32m     85\u001b[0m \u001b[0;34m\u001b[0m\u001b[0m\n\u001b[1;32m     86\u001b[0m     \u001b[0mbatch_size\u001b[0m\u001b[0;34m,\u001b[0m \u001b[0mchannels\u001b[0m\u001b[0;34m,\u001b[0m \u001b[0mheight\u001b[0m\u001b[0;34m,\u001b[0m \u001b[0mwidth\u001b[0m \u001b[0;34m=\u001b[0m \u001b[0minput\u001b[0m\u001b[0;34m.\u001b[0m\u001b[0mshape\u001b[0m\u001b[0;34m\u001b[0m\u001b[0;34m\u001b[0m\u001b[0m\n",
      "\u001b[0;32m~/anaconda3/envs/event-camera/lib/python3.7/site-packages/kornia/geometry/dsnt.py\u001b[0m in \u001b[0;36m_validate_batched_image_tensor_input\u001b[0;34m(tensor)\u001b[0m\n\u001b[1;32m     17\u001b[0m     \u001b[0;32mif\u001b[0m \u001b[0;32mnot\u001b[0m \u001b[0mlen\u001b[0m\u001b[0;34m(\u001b[0m\u001b[0mtensor\u001b[0m\u001b[0;34m.\u001b[0m\u001b[0mshape\u001b[0m\u001b[0;34m)\u001b[0m \u001b[0;34m==\u001b[0m \u001b[0;36m4\u001b[0m\u001b[0;34m:\u001b[0m\u001b[0;34m\u001b[0m\u001b[0;34m\u001b[0m\u001b[0m\n\u001b[1;32m     18\u001b[0m         raise ValueError(\"Invalid input shape, we expect BxCxHxW. Got: {}\"\n\u001b[0;32m---> 19\u001b[0;31m                          .format(tensor.shape))\n\u001b[0m\u001b[1;32m     20\u001b[0m \u001b[0;34m\u001b[0m\u001b[0m\n\u001b[1;32m     21\u001b[0m \u001b[0;34m\u001b[0m\u001b[0m\n",
      "\u001b[0;31mValueError\u001b[0m: Invalid input shape, we expect BxCxHxW. Got: torch.Size([13, 256, 256])"
     ]
    }
   ],
   "source": [
    "test = hm.unsqueeze(0) / hm.max()\n",
    "joints = dsnt.spatial_expectation2d(hm, False)"
   ]
  },
  {
   "cell_type": "code",
   "execution_count": 404,
   "metadata": {},
   "outputs": [],
   "source": [
    "sa = ConvSoftArgmax2d(output_value=True, normalized_coordinates=True)"
   ]
  },
  {
   "cell_type": "code",
   "execution_count": 408,
   "metadata": {},
   "outputs": [],
   "source": [
    "nms_coords, nms_val = sa(preds)"
   ]
  },
  {
   "cell_type": "code",
   "execution_count": 409,
   "metadata": {},
   "outputs": [
    {
     "data": {
      "text/plain": [
       "tensor(0.9961)"
      ]
     },
     "execution_count": 409,
     "metadata": {},
     "output_type": "execute_result"
    }
   ],
   "source": [
    "nms_coords[0, 0, 0, -1, -1]"
   ]
  },
  {
   "cell_type": "code",
   "execution_count": 410,
   "metadata": {},
   "outputs": [
    {
     "data": {
      "text/plain": [
       "tensor(0.9961)"
      ]
     },
     "execution_count": 410,
     "metadata": {},
     "output_type": "execute_result"
    }
   ],
   "source": [
    "nms_coords[0, 0, 0, -1, -1]"
   ]
  },
  {
   "cell_type": "code",
   "execution_count": 412,
   "metadata": {},
   "outputs": [],
   "source": [
    "joints = dsnt.spatial_expectation2d(preds, True)"
   ]
  },
  {
   "cell_type": "code",
   "execution_count": 415,
   "metadata": {},
   "outputs": [
    {
     "data": {
      "text/plain": [
       "tensor([[107.7103,  59.9007],\n",
       "        [123.1401,  92.8232],\n",
       "        [ 81.8295,  96.1559],\n",
       "        [125.1718, 127.8982],\n",
       "        [ 77.2900, 138.7553],\n",
       "        [125.9408, 143.3275],\n",
       "        [105.8589, 150.1685],\n",
       "        [134.9582, 162.8044],\n",
       "        [ 84.2072, 179.7052],\n",
       "        [113.2960, 222.7708],\n",
       "        [113.3664, 247.7078],\n",
       "        [ 98.1345, 285.4529],\n",
       "        [126.1599, 297.1688]])"
      ]
     },
     "execution_count": 415,
     "metadata": {},
     "output_type": "execute_result"
    }
   ],
   "source": [
    "denormalize_pixel_coordinates(joints, 342, 300)[0]"
   ]
  },
  {
   "cell_type": "code",
   "execution_count": null,
   "metadata": {},
   "outputs": [],
   "source": []
  }
 ],
 "metadata": {
  "kernelspec": {
   "display_name": "Python 3",
   "language": "python",
   "name": "python3"
  },
  "language_info": {
   "codemirror_mode": {
    "name": "ipython",
    "version": 3
   },
   "file_extension": ".py",
   "mimetype": "text/x-python",
   "name": "python",
   "nbconvert_exporter": "python",
   "pygments_lexer": "ipython3",
   "version": "3.7.7"
  }
 },
 "nbformat": 4,
 "nbformat_minor": 4
}
