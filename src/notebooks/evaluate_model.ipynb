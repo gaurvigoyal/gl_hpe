{
 "cells": [
  {
   "cell_type": "code",
   "execution_count": 1,
   "metadata": {
    "collapsed": false
   },
   "outputs": [
    {
     "name": "stdout",
     "output_type": "stream",
     "text": [
      "/home/gscarpellini/dev/event-camera/src\n"
     ]
    }
   ],
   "source": [
    "%cd /home/gscarpellini/dev/event-camera/src"
   ]
  },
  {
   "cell_type": "code",
   "execution_count": 13,
   "metadata": {
    "collapsed": false
   },
   "outputs": [
    {
     "name": "stdout",
     "output_type": "stream",
     "text": [
      "\u001b[0m\u001b[01;34mexp_resnet34_cut_256_$Adam_0.0003_center_crop_08-04-17-03\u001b[0m/\r\n",
      "\u001b[01;34mexp_resnet34_cut_256_$Adam_0.0003_center_crop_08-04-17-04\u001b[0m/\r\n",
      "\u001b[01;34mexp_resnet34_cut_256_$Adam_0.0003_center_crop_08-04-17-40\u001b[0m/\r\n",
      "\u001b[01;34mexp_resnet34_cut_256_$Adam_0.0003_center_crop_08-04-18-00\u001b[0m/\r\n",
      "\u001b[01;34mexp_resnet34_cut_256_$Adam_0.0003_center_crop_08-05-10-57\u001b[0m/\r\n",
      "\u001b[01;34mexp_resnet34_cut_512_$Adam_0.0003_center_crop_08-05-14-40\u001b[0m/\r\n",
      "\u001b[01;34mwith_errors\u001b[0m/\r\n"
     ]
    }
   ],
   "source": [
    "%ls /home/gscarpellini/dev/exps/voxelgrid_pose/exps_AutoEncoderEstimator"
   ]
  },
  {
   "cell_type": "code",
   "execution_count": 5,
   "metadata": {
    "collapsed": false,
    "scrolled": true
   },
   "outputs": [],
   "source": [
    "import experimenting.models as models\n",
    "import pytorch_lightning as pl\n",
    "import os\n",
    "import torch\n",
    "from albumentations import Compose, CenterCrop\n",
    "from albumentations.pytorch import ToTensor\n",
    "from importlib import reload  \n",
    "\n",
    "\n",
    "exp_name = 'exps_AutoEncoderEstimator/exp_resnet34_cut_512_$Adam_0.0003_center_crop_08-05-14-40/'\n",
    "checkpoint_dir = f'/home/gscarpellini/dev/exps/voxelgrid_pose/{exp_name}/checkpoints'\n",
    "checkpoints = sorted(os.listdir(checkpoint_dir))\n",
    "checkpoint_path = os.path.join(checkpoint_dir, checkpoints[0])\n",
    "\n"
   ]
  },
  {
   "cell_type": "code",
   "execution_count": 4,
   "metadata": {
    "collapsed": false
   },
   "outputs": [],
   "source": [
    "reload(models)"
   ]
  },
  {
   "cell_type": "code",
   "execution_count": 5,
   "metadata": {
    "collapsed": false
   },
   "outputs": [],
   "source": [
    "from omegaconf import DictConfig\n",
    "aug = Compose([CenterCrop(256, 256), ToTensor()])\n",
    "data_dir = '/data/dhp19/time_count_dataset/movements_per_frame'\n",
    "labels_dir = \"/data/dhp19/time_count_dataset/labels_full_joints/\"\n",
    "exp_dir = '/home/gianscarpe/dev/exps/timecount_pose/exps_MargiPoseModel'\n",
    "test_subjects = [1, 2, 3, 4, 5]\n",
    "cams = [3]\n",
    "\n",
    "batch_size = 16\n",
    "\n",
    "hparams = DictConfig({'data_dir': data_dir, 'save_split':False, 'labels_dir' :\n",
    "                      labels_dir, 'test_subjects':test_subjects, 'split_at':0.8, 'cams': cams})\n",
    "\n"
   ]
  },
  {
   "cell_type": "code",
   "execution_count": 6,
   "metadata": {
    "collapsed": false
   },
   "outputs": [],
   "source": [
    "fmodel = models.AutoEncoderEstimator.load_from_checkpoint(checkpoint_path)"
   ]
  },
  {
   "cell_type": "code",
   "execution_count": 8,
   "metadata": {
    "collapsed": false
   },
   "outputs": [],
   "source": [
    "checkpoint_path"
   ]
  },
  {
   "cell_type": "code",
   "execution_count": 11,
   "metadata": {
    "collapsed": false
   },
   "outputs": [],
   "source": [
    "fmodel.model"
   ]
  },
  {
   "cell_type": "code",
   "execution_count": 7,
   "metadata": {
    "collapsed": false
   },
   "outputs": [],
   "source": [
    "torch.save(fmodel.model, 'ae_resnet34_cut_256.pt')"
   ]
  }
 ],
 "metadata": {
  "kernelspec": {
   "argv": [
    "/home/gscarpellini/miniconda3/envs/event-camera/bin/python",
    "-m",
    "ipykernel_launcher",
    "-f",
    "{connection_file}"
   ],
   "display_name": "Python 3",
   "env": null,
   "interrupt_mode": "signal",
   "language": "python",
   "metadata": null,
   "name": "python3"
  },
  "language_info": {
   "codemirror_mode": {
    "name": "ipython",
    "version": 3
   },
   "file_extension": ".py",
   "mimetype": "text/x-python",
   "name": "python",
   "nbconvert_exporter": "python",
   "pygments_lexer": "ipython3",
   "version": "3.7.7"
  },
  "name": "evaluate_model.ipynb"
 },
 "nbformat": 4,
 "nbformat_minor": 4
}
