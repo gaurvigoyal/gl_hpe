{
 "cells": [
  {
   "cell_type": "code",
   "execution_count": 33,
   "metadata": {
    "collapsed": false,
    "jupyter": {
     "outputs_hidden": false
    }
   },
   "outputs": [
    {
     "name": "stdout",
     "output_type": "stream",
     "text": [
      "/home/gianscarpe/dev/event-camera/src\n"
     ]
    }
   ],
   "source": [
    "%cd /home/gianscarpe/dev/event-camera/src"
   ]
  },
  {
   "cell_type": "code",
   "execution_count": 54,
   "metadata": {
    "collapsed": false,
    "jupyter": {
     "outputs_hidden": false
    }
   },
   "outputs": [
    {
     "name": "stdout",
     "output_type": "stream",
     "text": [
      "\u001b[0m\u001b[01;34m09-05-14-28_exp_resnet34_cut_256_pretrained_True_09-05-14-28\u001b[0m/  \u001b[01;34mwith_errors\u001b[0m/\r\n",
      "\u001b[01;34m09-07-14-47_exp_resnet34_cut_512_pretrained_True_09-07-14-47\u001b[0m/\r\n"
     ]
    }
   ],
   "source": [
    "%ls /home/gianscarpe/dev/exps/voxelgrid/exps_AutoEncoderEstimator/cross-view/09-07-14-47_exp_resnet34_cut_512_pretrained_True_09-07-14-47/"
   ]
  },
  {
   "cell_type": "code",
   "execution_count": 44,
   "metadata": {
    "collapsed": false,
    "jupyter": {
     "outputs_hidden": false
    },
    "scrolled": true
   },
   "outputs": [],
   "source": [
    "import experimenting.agents as agents\n",
    "import pytorch_lightning as pl\n",
    "import os\n",
    "import torch\n",
    "from albumentations import Compose, CenterCrop\n",
    "from albumentations.pytorch import ToTensor\n",
    "from importlib import reload  \n",
    "\n",
    "\n",
    "exp_name = 'voxelgrid/exps_AutoEncoderEstimator/cross-view/09-07-14-47_exp_resnet34_cut_512_pretrained_True_09-07-14-47/'\n",
    "checkpoint_dir = f'/home/gianscarpe/dev/exps/{exp_name}/checkpoints'\n",
    "checkpoints = sorted(os.listdir(checkpoint_dir))\n",
    "checkpoint_path = os.path.join(checkpoint_dir, checkpoints[0])\n",
    "\n"
   ]
  },
  {
   "cell_type": "code",
   "execution_count": 45,
   "metadata": {
    "collapsed": false,
    "jupyter": {
     "outputs_hidden": false
    }
   },
   "outputs": [
    {
     "name": "stdout",
     "output_type": "stream",
     "text": [
      "/home/gianscarpe/dev/exps/timecount_dhp19/exps_AutoEncoderEstimator/exp_resnet34_cut_256_$Adam_0.0003_no_aug_08-10-11-50/checkpoints/epoch=10-val_loss=0.00.ckpt\n"
     ]
    }
   ],
   "source": [
    "print(checkpoint_path)"
   ]
  },
  {
   "cell_type": "code",
   "execution_count": 46,
   "metadata": {
    "collapsed": false,
    "jupyter": {
     "outputs_hidden": false
    }
   },
   "outputs": [],
   "source": [
    "fmodel = agents.AutoEncoderEstimator.load_from_checkpoint(checkpoint_path)"
   ]
  },
  {
   "cell_type": "code",
   "execution_count": 47,
   "metadata": {
    "collapsed": false,
    "jupyter": {
     "outputs_hidden": false
    }
   },
   "outputs": [],
   "source": [
    "torch.save(fmodel.model, 'ae_resnet34_cut_256_no_aug.pt')"
   ]
  }
 ],
 "metadata": {
  "kernelspec": {
   "argv": [
    "/home/gianscarpe/anaconda3/envs/event-camera/bin/python",
    "-m",
    "ipykernel_launcher",
    "-f",
    "{connection_file}"
   ],
   "display_name": "Python 3",
   "env": null,
   "interrupt_mode": "signal",
   "language": "python",
   "metadata": null,
   "name": "python3"
  },
  "language_info": {
   "codemirror_mode": {
    "name": "ipython",
    "version": 3
   },
   "file_extension": ".py",
   "mimetype": "text/x-python",
   "name": "python",
   "nbconvert_exporter": "python",
   "pygments_lexer": "ipython3",
   "version": "3.7.7"
  },
  "name": "evaluate_model.ipynb"
 },
 "nbformat": 4,
 "nbformat_minor": 4
}
