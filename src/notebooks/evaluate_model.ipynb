{
 "cells": [
  {
   "cell_type": "code",
   "execution_count": 1,
   "metadata": {
    "collapsed": false
   },
   "outputs": [
    {
     "name": "stdout",
     "output_type": "stream",
     "text": [
      "/home/gianscarpe/dev/event-camera/src\n"
     ]
    }
   ],
   "source": [
    "%cd .."
   ]
  },
  {
   "cell_type": "code",
   "execution_count": 7,
   "metadata": {
    "collapsed": false,
    "scrolled": true
   },
   "outputs": [],
   "source": [
    "import experimenting.models as models\n",
    "import pytorch_lightning as pl\n",
    "import os\n",
    "import torch\n",
    "\n",
    "\n",
    "exp_name = 'exps_resnet50/exp_Adam_0.0003_center_crop_05-20-10-45'\n",
    "checkpoint_dir = f'/home/gianscarpe/dev/exps/timecount/{exp_name}/checkpoints'\n",
    "checkpoints = sorted(os.listdir(checkpoint_dir))\n",
    "checkpoint_path = os.path.join(checkpoint_dir, checkpoints[0])\n",
    "model = models.Classifier.load_from_checkpoint(checkpoint_path)"
   ]
  }
 ],
 "metadata": {
  "kernelspec": {
   "argv": [
    "/home/gianscarpe/anaconda3/envs/event-camera/bin/python",
    "-m",
    "ipykernel_launcher",
    "-f",
    "{connection_file}"
   ],
   "display_name": "Python 3",
   "env": null,
   "interrupt_mode": "signal",
   "language": "python",
   "metadata": null,
   "name": "python3"
  },
  "language_info": {
   "codemirror_mode": {
    "name": "ipython",
    "version": 3
   },
   "file_extension": ".py",
   "mimetype": "text/x-python",
   "name": "python",
   "nbconvert_exporter": "python",
   "pygments_lexer": "ipython3",
   "version": "3.7.7"
  },
  "name": "evaluate_model.ipynb"
 },
 "nbformat": 4,
 "nbformat_minor": 4
}
