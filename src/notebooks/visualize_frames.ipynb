{
 "cells": [
  {
   "cell_type": "code",
   "execution_count": 12,
   "metadata": {
    "collapsed": false,
    "jupyter": {
     "outputs_hidden": false
    }
   },
   "outputs": [],
   "source": [
    "import h5py\n",
    "from matplotlib import pyplot as plt\n",
    "import numpy as np\n",
    "import os\n",
    "from mpl_toolkits.axes_grid1 import ImageGrid\n",
    "import cv2"
   ]
  },
  {
   "cell_type": "code",
   "execution_count": null,
   "metadata": {
    "collapsed": false,
    "jupyter": {
     "outputs_hidden": false
    }
   },
   "outputs": [],
   "source": [
    "path  ='/home/gianscarpe/dev/data/dhp19/voxel_grid_dataset/movements_per_frame/S1_session_1_mov_1_frame_{}.npy'\n",
    "for frame in range(1, 30):\n",
    "    fr = np.load(path.format(frame))\n",
    "    fig = plt.figure(figsize=(20., 10.))\n",
    "    frame_dir = f'frame_{frame}'\n",
    "    grid = ImageGrid(fig, 111,  # similar to subplot(111)\n",
    "                     nrows_ncols=(1, 4),  # creates 2x2 grid of axes\n",
    "                     axes_pad=0.1,  # pad between axes in inch.\n",
    "    )\n",
    "    frame_dir = f'frame_{frame}'\n",
    "    for i in range(0, fr.shape[-1]):\n",
    "        grid[i-1].imshow(np.swapaxes(fr[:, :, i], 0, 1))\n",
    "    plt.title(frame_dir)\n"
   ]
  },
  {
   "cell_type": "code",
   "execution_count": null,
   "metadata": {
    "collapsed": false,
    "jupyter": {
     "outputs_hidden": false
    }
   },
   "outputs": [],
   "source": [
    "# S1_session_1_mov_1_7500_events_1.mat\n",
    "\n",
    "path  ='/home/gianscarpe/dev/data/dataset/npy_dataset_7500_events/346x260/S1_session_1_mov_1_7500_events_{}.mat'\n",
    "import scipy.io\n",
    "\n",
    "for frame in range(1, 30):\n",
    "    fr = scipy.io.loadmat(path.format(frame))['V3n']\n",
    "    fig = plt.figure(figsize=(20., 10.))\n",
    "    frame_dir = f'frame_{frame}'\n",
    "    grid = ImageGrid(fig, 111,  # similar to subplot(111)\n",
    "                     nrows_ncols=(1, 4),  # creates 2x2 grid of axes\n",
    "                     axes_pad=0.1,  # pad between axes in inch.\n",
    "    )\n",
    "    frame_dir = f'frame_{frame}'\n",
    "    for i in range(0, fr.shape[-1]):\n",
    "        grid[i].imshow(np.swapaxes(fr[:, :, i], 0, 1))\n",
    "    plt.title(frame_dir)"
   ]
  },
  {
   "cell_type": "code",
   "execution_count": 17,
   "metadata": {
    "collapsed": false,
    "jupyter": {
     "outputs_hidden": false
    }
   },
   "outputs": [],
   "source": [
    "import glob\n",
    "base_dir = '/data/gscarpellini/mpii/events/Seq1/imageSequence/video_6/part_20/'\n",
    "frames = sorted(glob.glob(base_dir + '*'))"
   ]
  },
  {
   "cell_type": "markdown",
   "metadata": {
    "jupyter": {
     "outputs_hidden": false
    }
   },
   "source": [
    "## for frame in frames[:50]:\n",
    "    fr = np.load(frame).swapaxes(0,1)\n",
    "    fig = plt.figure(figsize=(20., 10.))\n",
    "    plt.imshow(fr)\n"
   ]
  },
  {
   "cell_type": "code",
   "execution_count": null,
   "metadata": {},
   "outputs": [],
   "source": []
  }
 ],
 "metadata": {
  "kernelspec": {
   "display_name": "Python 3",
   "language": "python",
   "name": "python3"
  },
  "language_info": {
   "codemirror_mode": {
    "name": "ipython",
    "version": 3
   },
   "file_extension": ".py",
   "mimetype": "text/x-python",
   "name": "python",
   "nbconvert_exporter": "python",
   "pygments_lexer": "ipython3",
   "version": "3.7.7"
  },
  "name": "visualize_frames.ipynb"
 },
 "nbformat": 4,
 "nbformat_minor": 4
}
