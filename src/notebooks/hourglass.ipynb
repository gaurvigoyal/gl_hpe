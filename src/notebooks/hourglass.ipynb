{
 "cells": [
  {
   "cell_type": "code",
   "execution_count": 1,
   "metadata": {},
   "outputs": [
    {
     "name": "stdout",
     "output_type": "stream",
     "text": [
      "/home/gianscarpe/dev/event-camera/src\n"
     ]
    }
   ],
   "source": [
    "%cd .."
   ]
  },
  {
   "cell_type": "code",
   "execution_count": 3,
   "metadata": {},
   "outputs": [],
   "source": [
    "from experimenting.dataset import get_dataloader, DHPJointsDataset\n",
    "from experimenting.dataset.indexes import get_dataset_params\n",
    "from matplotlib import pyplot as plt\n",
    "import numpy as np\n",
    "from albumentations import Compose, CenterCrop\n",
    "from albumentations.pytorch import ToTensor\n",
    "import torch\n",
    "from importlib import reload  \n",
    "from experimenting.models import metrics\n",
    "from experimenting.models import losses\n",
    "from kornia import geometry\n",
    "from omegaconf import DictConfig\n",
    "import kornia\n",
    "from experimenting.utils import get_file_paths\n",
    "import numpy as np\n",
    "\n",
    "%matplotlib inline"
   ]
  },
  {
   "cell_type": "code",
   "execution_count": 4,
   "metadata": {},
   "outputs": [],
   "source": [
    "def display(img):          \n",
    "        fig, ax = plt.subplots(ncols=img.shape[0], nrows=1,                              \n",
    "                               figsize=(20,20))                                                                                   \n",
    "        for i in range(img.shape[0]):                                                                \n",
    "            ax[i].imshow(img[i])                                                  \n",
    "            ax[i].axis('off')\n",
    "        plt.show()"
   ]
  },
  {
   "cell_type": "code",
   "execution_count": 35,
   "metadata": {},
   "outputs": [],
   "source": [
    "def plot_2d(dvs_frame, sample_gt, sample_pred):\n",
    "    \" To plot image and 2D ground truth and prediction \"\n",
    "    plt.figure()\n",
    "    plt.imshow(dvs_frame, cmap='gray')\n",
    "    plt.plot(sample_gt[:,1], sample_gt[:,0], '.', c='red', label='gt')\n",
    "    plt.plot(sample_pred[:,1], sample_pred[:,0], '.', c='blue', label='pred')\n",
    "    plt.legend()"
   ]
  },
  {
   "cell_type": "code",
   "execution_count": 5,
   "metadata": {},
   "outputs": [],
   "source": [
    "# Augmentation\n",
    "aug = Compose([ToTensor()])"
   ]
  },
  {
   "cell_type": "code",
   "execution_count": 10,
   "metadata": {},
   "outputs": [
    {
     "name": "stdout",
     "output_type": "stream",
     "text": [
      ".npy|.mat\n"
     ]
    }
   ],
   "source": [
    "data_dir = '/data/dhp19/time_count_dataset/movements_per_frame'\n",
    "labels_dir = \"/data/dhp19/time_count_dataset/labels_joints/\"\n",
    "test_subjects = [1, 2, 3, 4, 5]\n",
    "cams = [2]\n",
    "max_w = 300\n",
    "max_h = 342\n",
    "\n",
    "hparams = DictConfig({'data_dir': data_dir, 'save_split':False, 'labels_dir' : labels_dir, 'test_subjects':test_subjects, 'cams': cams})\n",
    "params = get_dataset_params(hparams)"
   ]
  },
  {
   "cell_type": "code",
   "execution_count": 13,
   "metadata": {},
   "outputs": [],
   "source": [
    "d = DHPJointsDataset(file_paths = params['file_paths'], labels_dir = labels_dir, indexes=params['test_indexes'], max_w= max_w, max_h= max_h, transform=aug)"
   ]
  },
  {
   "cell_type": "code",
   "execution_count": 14,
   "metadata": {},
   "outputs": [],
   "source": [
    "loader = get_dataloader(d, 32, 2)"
   ]
  },
  {
   "cell_type": "code",
   "execution_count": 15,
   "metadata": {},
   "outputs": [],
   "source": [
    "batch = next(iter(loader))\n",
    "x, y, m = batch"
   ]
  },
  {
   "cell_type": "code",
   "execution_count": 17,
   "metadata": {},
   "outputs": [
    {
     "data": {
      "text/plain": [
       "tensor([[ 20.0000, 120.0000],\n",
       "        [ 51.0000, 107.0000],\n",
       "        [ 41.0000, 132.0000],\n",
       "        [ 62.0000,  83.0000],\n",
       "        [ 45.0000, 143.0000],\n",
       "        [ 90.0000, 130.0000],\n",
       "        [ 84.0000, 144.0000],\n",
       "        [ 62.0000,  54.0000],\n",
       "        [ 34.0000, 162.0000],\n",
       "        [145.0000, 122.0000],\n",
       "        [131.0000, 157.0000],\n",
       "        [191.0000, 106.0000],\n",
       "        [161.0000, 168.0000]])"
      ]
     },
     "execution_count": 17,
     "metadata": {},
     "output_type": "execute_result"
    }
   ],
   "source": [
    "geometry.denormalize_pixel_coordinates(y[0], max_h, max_w)"
   ]
  },
  {
   "cell_type": "code",
   "execution_count": 18,
   "metadata": {},
   "outputs": [],
   "source": [
    "import experimenting.models as models\n",
    "import os\n",
    "import experimenting.models.metrics as metrics\n",
    "import experimenting.models.losses as losses\n",
    "from experimenting.models.dsnt import average_loss\n",
    "from experimenting.utils import get_joints_from_heatmap\n",
    "\n",
    "exp_name = 'exps_HourglassModel/exp_Adam_0.0003_no_aug_05-21-18-21/'\n",
    "checkpoint_dir = f'/home/gianscarpe/dev/exps/timecount_pose/{exp_name}/checkpoints'\n",
    "checkpoints = sorted(os.listdir(checkpoint_dir))\n",
    "checkpoint_path = os.path.join(checkpoint_dir, checkpoints[0])\n",
    "model = models.HourglassEstimator.load_from_checkpoint(checkpoint_path)\n",
    "model = model.cpu()"
   ]
  },
  {
   "cell_type": "code",
   "execution_count": 23,
   "metadata": {},
   "outputs": [],
   "source": [
    "mpjpe = metrics.MPJPE(reduction=average_loss)"
   ]
  },
  {
   "cell_type": "code",
   "execution_count": 19,
   "metadata": {},
   "outputs": [],
   "source": [
    "with torch.no_grad():\n",
    "    preds = model(x.cpu())[-1]"
   ]
  },
  {
   "cell_type": "code",
   "execution_count": 29,
   "metadata": {},
   "outputs": [],
   "source": [
    "p_joints =  geometry.denormalize_pixel_coordinates(geometry.spatial_expectation2d(preds), d.max_h, d.max_w) \n",
    "gt_joints = geometry.denormalize_pixel_coordinates(y, max_h, max_w)"
   ]
  },
  {
   "cell_type": "code",
   "execution_count": 37,
   "metadata": {},
   "outputs": [
    {
     "data": {
      "text/plain": [
       "tensor(5.3763)"
      ]
     },
     "execution_count": 37,
     "metadata": {},
     "output_type": "execute_result"
    }
   ],
   "source": [
    "mpjpe(p_joints, gt_joints, m)"
   ]
  },
  {
   "cell_type": "code",
   "execution_count": 38,
   "metadata": {},
   "outputs": [
    {
     "data": {
      "image/png": "[encoded data removed]",
      "text/plain": [
       "<Figure size 1440x1440 with 13 Axes>"
      ]
     },
     "metadata": {
      "needs_background": "light"
     },
     "output_type": "display_data"
    },
    {
     "data": {
      "image/png": "[encoded data removed]",
      "text/plain": [
       "<Figure size 432x288 with 1 Axes>"
      ]
     },
     "metadata": {
      "needs_background": "light"
     },
     "output_type": "display_data"
    }
   ],
   "source": [
    "display(preds[2].numpy())\n",
    "plot_2d(x[2].squeeze(), p_joints[2], gt_joints[2])"
   ]
  }
 ],
 "metadata": {
  "kernelspec": {
   "display_name": "Python 3",
   "language": "python",
   "name": "python3"
  },
  "language_info": {
   "codemirror_mode": {
    "name": "ipython",
    "version": 3
   },
   "file_extension": ".py",
   "mimetype": "text/x-python",
   "name": "python",
   "nbconvert_exporter": "python",
   "pygments_lexer": "ipython3",
   "version": "3.7.7"
  }
 },
 "nbformat": 4,
 "nbformat_minor": 4
}
