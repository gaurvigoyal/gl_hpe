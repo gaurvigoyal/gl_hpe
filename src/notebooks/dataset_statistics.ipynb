{
 "cells": [
  {
   "cell_type": "code",
   "execution_count": null,
   "metadata": {},
   "outputs": [],
   "source": [
    "%cd .."
   ]
  },
  {
   "cell_type": "code",
   "execution_count": null,
   "metadata": {},
   "outputs": [],
   "source": [
    "import experimenting.dataset as dataset\n",
    "import numpy as np\n",
    "from torch.utils.data import Dataset, DataLoader\n",
    "import torch\n",
    "from PIL import Image\n",
    "from matplotlib import pyplot as plt\n",
    "from albumentations import *\n",
    "from albumentations.pytorch import ToTensor\n",
    "import os\n",
    "import re\n",
    "from experimenting.dataset import save_npy_indexes_and_map\n",
    "\n",
    "%matplotlib inline\n",
    "\n",
    "file_paths = \"/home/gianscarpe/dev/data/dhp19/time_count_dataset/movements_per_frame/\"\n",
    "#file_paths = '/home/gianscarpe/dev/data/dhp19/voxel_grid_dataset/movements_per_frame/'"
   ]
  },
  {
   "cell_type": "code",
   "execution_count": null,
   "metadata": {},
   "outputs": [],
   "source": [
    "transform_val = Compose([\n",
    "    ToTensor()\n",
    "])"
   ]
  },
  {
   "cell_type": "code",
   "execution_count": null,
   "metadata": {},
   "outputs": [],
   "source": [
    "d = dataset.get_dataset(file_paths, index=None, preload=False, n_channels=1, preprocess=transform_val)"
   ]
  },
  {
   "cell_type": "code",
   "execution_count": null,
   "metadata": {},
   "outputs": [],
   "source": [
    "loader = DataLoader(\n",
    "    d,\n",
    "    batch_size=32,\n",
    "    num_workers=1,\n",
    "    shuffle=False\n",
    ")"
   ]
  },
  {
   "cell_type": "markdown",
   "metadata": {},
   "source": [
    "## Mean, Std and class balance"
   ]
  },
  {
   "cell_type": "code",
   "execution_count": null,
   "metadata": {},
   "outputs": [],
   "source": [
    "#from https://discuss.pytorch.org/t/computing-the-mean-and-std-of-dataset/34949/2\n",
    "mean = 0.\n",
    "std = 0.\n",
    "nb_samples = 0.\n",
    "counts = torch.zeros(33)\n",
    "for data, labels in loader:\n",
    "    batch_samples = data.size(0)\n",
    "    data = data.view(batch_samples, data.size(1), -1)\n",
    "    mean += data.mean(2).sum(0)\n",
    "    std += data.std(2).sum(0)\n",
    "    nb_samples += batch_samples\n",
    "    for i in labels:\n",
    "        counts[i]+=1\n",
    "\n",
    "mean /= nb_samples\n",
    "std /= nb_samples"
   ]
  },
  {
   "cell_type": "code",
   "execution_count": null,
   "metadata": {},
   "outputs": [],
   "source": [
    "print(f\"Mean: {mean} | Std: {std}\")"
   ]
  },
  {
   "cell_type": "code",
   "execution_count": null,
   "metadata": {},
   "outputs": [],
   "source": [
    "counts = torch.zeros(33)\n",
    "for data, i in d:\n",
    "    counts[i]+=1\n",
    "\n",
    "plt.bar(np.arange(1, 34), counts.numpy().astype('int'))"
   ]
  }
 ],
 "metadata": {
  "kernelspec": {
   "display_name": "Python 3",
   "language": "python",
   "name": "python3"
  },
  "language_info": {
   "codemirror_mode": {
    "name": "ipython",
    "version": 3
   },
   "file_extension": ".py",
   "mimetype": "text/x-python",
   "name": "python",
   "nbconvert_exporter": "python",
   "pygments_lexer": "ipython3",
   "version": "3.7.7"
  }
 },
 "nbformat": 4,
 "nbformat_minor": 4
}
