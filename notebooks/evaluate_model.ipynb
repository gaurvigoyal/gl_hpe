{
 "cells": [
  {
   "cell_type": "code",
   "execution_count": 1,
   "metadata": {},
   "outputs": [
    {
     "name": "stdout",
     "output_type": "stream",
     "text": [
      "/home/gianscarpe/dev/event-camera\n"
     ]
    }
   ],
   "source": [
    "%cd ..\n",
    "#exp_SGD_0.01_center_crop_04-17-09-13_04-17-09-13"
   ]
  },
  {
   "cell_type": "code",
   "execution_count": 7,
   "metadata": {},
   "outputs": [],
   "source": [
    "import module\n",
    "import pytorch_lightning as pl\n",
    "import os\n",
    "\n",
    "exp_name = 'exp_SGD_0.1_no_aug_04-17-19-29_04-17-19-29'\n",
    "checkpoint_dir = f'/home/gianscarpe/dev/exps/voxelgrid/exps_resnet34/{exp_name}/checkpoints'\n",
    "checkpoints = sorted(os.listdir(checkpoint_dir))\n",
    "checkpoint_path = os.path.join(checkpoint_dir, checkpoints[0])"
   ]
  },
  {
   "cell_type": "code",
   "execution_count": 8,
   "metadata": {
    "scrolled": true
   },
   "outputs": [
    {
     "name": "stdout",
     "output_type": "stream",
     "text": [
      "{'debug': False, 'model': 'resnet34', 'exp_dir': 'exps_resnet34', 'exp_name': 'exp_SGD_0.1_no_aug_04-17-19-29', 'root_dir': '/home/gianscarpe/dev', 'optimizer__type': 'SGD', 'optimizer__params__lr': 0.1, 'optimizer__params__momentum': 0.9, 'optimizer__params__nesterov': True, 'lr_scheduler__type': 'StepLR', 'lr_scheduler__params__step_size': 10, 'lr_scheduler__params__gamma': 0.1, 'dataset__name': 'voxelgrid', 'dataset__path': '/home/gianscarpe/dev/data/dhp19/voxel_grid_dataset/movements_per_frame', 'dataset__n_channels': 4, 'dataset__n_classes': 33, 'dataset__balanced': True, 'loss__class': 'torch.nn.CrossEntropyLoss', 'loss__params__reduction': 'mean', 'augmentation_train__type': 'no_aug', 'augmentation_train__apply__aug1__class': 'albumentations.pytorch.ToTensor', 'augmentation_test__type': 'no_aug', 'augmentation_test__apply__aug1__class': 'albumentations.pytorch.ToTensor', 'training__epochs': 100, 'training__early_stopping': 10, 'training__batch_size': 32, 'training__num_workers': 6, 'training__use_lr_scheduler': True, 'training__load_training': False, 'training__load_path': None}\n"
     ]
    }
   ],
   "source": [
    "model = module.Model.load_from_checkpoint(checkpoint_path)"
   ]
  },
  {
   "cell_type": "code",
   "execution_count": 9,
   "metadata": {},
   "outputs": [
    {
     "name": "stdout",
     "output_type": "stream",
     "text": [
      "SGD   0.1   no_aug\n"
     ]
    }
   ],
   "source": [
    "print(model.hparams['optimizer__type'], \" \", model.hparams['optimizer__params__lr'], \" \", model.hparams['augmentation_train__type'] )"
   ]
  },
  {
   "cell_type": "code",
   "execution_count": 10,
   "metadata": {},
   "outputs": [
    {
     "name": "stderr",
     "output_type": "stream",
     "text": [
      "INFO:lightning:GPU available: True, used: True\n",
      "INFO:lightning:VISIBLE GPUS: 0\n"
     ]
    }
   ],
   "source": [
    "trainer = pl.Trainer(gpus=1, benchmark=True, weights_summary='top')"
   ]
  },
  {
   "cell_type": "code",
   "execution_count": 11,
   "metadata": {},
   "outputs": [
    {
     "name": "stdout",
     "output_type": "stream",
     "text": [
      "LOADED INDEXES! train: 20032 \t val: 5009 \t test: 6261\n"
     ]
    },
    {
     "data": {
      "application/vnd.jupyter.widget-view+json": {
       "model_id": "d7e05978652f4ab99010250479d6d245",
       "version_major": 2,
       "version_minor": 0
      },
      "text/plain": [
       "HBox(children=(FloatProgress(value=0.0, description='Testing', layout=Layout(flex='2'), max=196.0, style=Progr…"
      ]
     },
     "metadata": {},
     "output_type": "display_data"
    },
    {
     "name": "stdout",
     "output_type": "stream",
     "text": [
      "----------------------------------------------------------------------------------------------------\n",
      "TEST RESULTS\n",
      "{'step': 0,\n",
      " 'test_acc': 0.9401054144705319,\n",
      " 'test_loss': tensor(0.3639, device='cuda:0'),\n",
      " 'test_precision': 0.9402788758733125,\n",
      " 'test_recall': 0.9401054144705319}\n",
      "----------------------------------------------------------------------------------------------------\n",
      "\n"
     ]
    }
   ],
   "source": [
    "trainer.test(model)"
   ]
  },
  {
   "cell_type": "code",
   "execution_count": null,
   "metadata": {},
   "outputs": [],
   "source": []
  }
 ],
 "metadata": {
  "kernelspec": {
   "display_name": "Python 3",
   "language": "python",
   "name": "python3"
  },
  "language_info": {
   "codemirror_mode": {
    "name": "ipython",
    "version": 3
   },
   "file_extension": ".py",
   "mimetype": "text/x-python",
   "name": "python",
   "nbconvert_exporter": "python",
   "pygments_lexer": "ipython3",
   "version": "3.7.7"
  }
 },
 "nbformat": 4,
 "nbformat_minor": 4
}
