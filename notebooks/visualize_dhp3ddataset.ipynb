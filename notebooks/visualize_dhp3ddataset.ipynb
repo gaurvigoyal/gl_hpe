{
 "cells": [
  {
   "cell_type": "code",
   "execution_count": 3,
   "metadata": {},
   "outputs": [
    {
     "name": "stdout",
     "output_type": "stream",
     "text": [
      "/home/gianscarpe/dev\n"
     ]
    }
   ],
   "source": [
    "%cd .."
   ]
  },
  {
   "cell_type": "code",
   "execution_count": 163,
   "metadata": {},
   "outputs": [],
   "source": [
    "from experimenting.dataset import DHP3DDataset\n",
    "from experimenting.dataset.indexes import get_dataset_params\n",
    "from experimenting.utils import get_file_paths, decay_heatmap\n",
    "from matplotlib import pyplot as plt\n",
    "from os.path import join, basename"
   ]
  },
  {
   "cell_type": "code",
   "execution_count": 165,
   "metadata": {},
   "outputs": [
    {
     "name": "stdout",
     "output_type": "stream",
     "text": [
      "LOADED INDEXES! train: 20267 \t val: 5067 \t test: 6334\n",
      ".npy\n"
     ]
    }
   ],
   "source": [
    "data_dir = '/home/gianscarpe/dev/data/dhp19/time_count_dataset/movements_per_frame'\n",
    "labels_dir = '/home/gianscarpe/dev/data/dhp19/time_count_dataset/labels'\n",
    "file_paths, train_index, val_index, test_index, labels = get_dataset_params(data_dir)\n",
    "file_paths = get_file_paths(data_dir, extensions=['.npy'])"
   ]
  },
  {
   "cell_type": "code",
   "execution_count": 166,
   "metadata": {},
   "outputs": [],
   "source": [
    "d = DHP3DDataset(file_paths, labels_dir, train_index)\n"
   ]
  },
  {
   "cell_type": "code",
   "execution_count": 168,
   "metadata": {},
   "outputs": [],
   "source": [
    "import numpy as np\n",
    "n_joints = 13\n",
    "\n",
    "x, y = d[1001]                                "
   ]
  },
  {
   "cell_type": "code",
   "execution_count": 169,
   "metadata": {},
   "outputs": [],
   "source": [
    "def display(img):                                                               \n",
    "        fig, ax = plt.subplots(ncols=img.shape[-1], nrows=1,                              \n",
    "                               figsize=(20,20))                                                                                   \n",
    "        for i in range(img.shape[-1]):                                                                \n",
    "            ax[i].imshow(img[:, :, i])                                                  \n",
    "            ax[i].axis('off')                                                             \n",
    "        plt.show()"
   ]
  },
  {
   "cell_type": "code",
   "execution_count": 170,
   "metadata": {},
   "outputs": [
    {
     "data": {
      "image/png": "[encoded data removed]",
      "text/plain": [
       "<Figure size 1440x1440 with 13 Axes>"
      ]
     },
     "metadata": {
      "needs_background": "light"
     },
     "output_type": "display_data"
    }
   ],
   "source": [
    "display(y)"
   ]
  }
 ],
 "metadata": {
  "kernelspec": {
   "display_name": "Python 3",
   "language": "python",
   "name": "python3"
  },
  "language_info": {
   "codemirror_mode": {
    "name": "ipython",
    "version": 3
   },
   "file_extension": ".py",
   "mimetype": "text/x-python",
   "name": "python",
   "nbconvert_exporter": "python",
   "pygments_lexer": "ipython3",
   "version": "3.7.7"
  }
 },
 "nbformat": 4,
 "nbformat_minor": 4
}
