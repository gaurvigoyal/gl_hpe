{
 "cells": [
  {
   "cell_type": "code",
   "execution_count": 1,
   "metadata": {},
   "outputs": [
    {
     "name": "stdout",
     "output_type": "stream",
     "text": [
      "/home/gianscarpe/dev/event-camera\n"
     ]
    }
   ],
   "source": [
    "%cd .."
   ]
  },
  {
   "cell_type": "code",
   "execution_count": 24,
   "metadata": {},
   "outputs": [],
   "source": [
    "import numpy as np\n",
    "from torchvision import transforms\n",
    "from torch.utils.data import Dataset, DataLoader\n",
    "import torch\n",
    "from PIL import Image\n",
    "from matplotlib import pyplot as plt\n",
    "import albumentations\n",
    "import glob\n",
    "from experimenting.dataset import load_npy_indexes_and_map\n",
    "from experimenting.utils import get_label_from_filename\n",
    "\n",
    "import os\n",
    "%matplotlib inline\n",
    "path = \"/home/gianscarpe/dev/data/dhp19/voxel_grid_dataset/movements_per_frame\""
   ]
  },
  {
   "cell_type": "code",
   "execution_count": 25,
   "metadata": {},
   "outputs": [
    {
     "name": "stdout",
     "output_type": "stream",
     "text": [
      "LOADED INDEXES! train: 20032 \t val: 5009 \t test: 6261\n"
     ]
    }
   ],
   "source": [
    "file_paths, train_index, val_index, test_index, _ = load_npy_indexes_and_map(path)"
   ]
  },
  {
   "cell_type": "code",
   "execution_count": 26,
   "metadata": {},
   "outputs": [],
   "source": [
    "out_dir = os.path.join(path, 'preload')\n",
    "labels = [get_label_from_filename(x) for x in file_paths]\n",
    "\n",
    "np.save(os.path.join(out_dir, \"labels.npy\"), labels)"
   ]
  },
  {
   "cell_type": "code",
   "execution_count": 16,
   "metadata": {},
   "outputs": [
    {
     "name": "stdout",
     "output_type": "stream",
     "text": [
      "balanced_indexes.npy  test_indexes.npy\ttrain_indexes.npy  val_indexes.npy\r\n",
      "file_paths.pkl\t      test_labels.npy\ttrain_labels.npy   val_labels.npy\r\n"
     ]
    }
   ],
   "source": [
    "!ls /home/gianscarpe/dev/data/dhp19/voxel_grid_dataset/movements_per_frame/preload"
   ]
  },
  {
   "cell_type": "code",
   "execution_count": null,
   "metadata": {},
   "outputs": [],
   "source": [
    "from albumentations import *\n",
    "from albumentations.pytorch import ToTensor\n",
    "transform_val = Compose([\n",
    "             ToTensor()\n",
    "       ])"
   ]
  },
  {
   "cell_type": "code",
   "execution_count": null,
   "metadata": {},
   "outputs": [],
   "source": [
    "file_paths = get_file_paths(path, [\".mat\"])\n",
    "len(file_paths)"
   ]
  },
  {
   "cell_type": "code",
   "execution_count": null,
   "metadata": {},
   "outputs": [],
   "source": [
    "d = dataset.get_dataset(file_paths, index=None, preload=False, n_channels=1, preprocess=transform_val)\n",
    "labels = d.labels\n",
    "indexes = []\n",
    "counts = np.zeros(33)\n",
    "for i, l in zip(d.x_indexes, labels):\n",
    "    if counts[l] > 999:\n",
    "        continue\n",
    "    counts[l] +=1\n",
    "    indexes.append(i)\n",
    "indexes = np.array(indexes)"
   ]
  },
  {
   "cell_type": "code",
   "execution_count": null,
   "metadata": {},
   "outputs": [],
   "source": [
    "len(indexes)"
   ]
  },
  {
   "cell_type": "code",
   "execution_count": null,
   "metadata": {},
   "outputs": [],
   "source": [
    "counts = np.zeros(33)\n",
    "for i in indexes:\n",
    "    l = d.labels[i]\n",
    "    counts[l] +=1\n",
    "plt.bar(np.arange(1, 34), counts.astype('int'))"
   ]
  },
  {
   "cell_type": "code",
   "execution_count": null,
   "metadata": {},
   "outputs": [],
   "source": [
    "np.random.shuffle(indexes)"
   ]
  },
  {
   "cell_type": "code",
   "execution_count": null,
   "metadata": {},
   "outputs": [],
   "source": [
    "path"
   ]
  },
  {
   "cell_type": "code",
   "execution_count": null,
   "metadata": {},
   "outputs": [],
   "source": [
    "np.save(os.path.join(path, \"preload\", 'balanced_indexes.npy'), indexes)"
   ]
  },
  {
   "cell_type": "markdown",
   "metadata": {},
   "source": [
    "## Create train, val and test split"
   ]
  },
  {
   "cell_type": "code",
   "execution_count": null,
   "metadata": {},
   "outputs": [],
   "source": [
    "from utils import generate_indexes"
   ]
  },
  {
   "cell_type": "code",
   "execution_count": null,
   "metadata": {},
   "outputs": [],
   "source": [
    "files, train, val, test = generate_indexes.save_npy_indexes_and_map(path, split_at=0.8)"
   ]
  },
  {
   "cell_type": "markdown",
   "metadata": {},
   "source": [
    "## Test split"
   ]
  },
  {
   "cell_type": "code",
   "execution_count": null,
   "metadata": {},
   "outputs": [],
   "source": [
    "ind = np.concatenate([train, val, test])\n",
    "d = dataset.get_dataset(files, index=ind, preload=False, n_channels=1, preprocess=transform_val)\n",
    "counts = np.zeros(33)\n",
    "for i in ind:\n",
    "    l = d.labels[i]\n",
    "    counts[l] +=1\n",
    "plt.bar(np.arange(1, 34), np.array(counts).astype('int'))"
   ]
  },
  {
   "cell_type": "code",
   "execution_count": null,
   "metadata": {},
   "outputs": [],
   "source": []
  }
 ],
 "metadata": {
  "kernelspec": {
   "display_name": "Python 3",
   "language": "python",
   "name": "python3"
  },
  "language_info": {
   "codemirror_mode": {
    "name": "ipython",
    "version": 3
   },
   "file_extension": ".py",
   "mimetype": "text/x-python",
   "name": "python",
   "nbconvert_exporter": "python",
   "pygments_lexer": "ipython3",
   "version": "3.7.7"
  }
 },
 "nbformat": 4,
 "nbformat_minor": 4
}
