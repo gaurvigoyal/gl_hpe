{
 "cells": [
  {
   "cell_type": "code",
   "execution_count": null,
   "metadata": {
    "collapsed": false
   },
   "outputs": [
    {
     "name": "stdout",
     "output_type": "stream",
     "text": [
      "Start loading\n"
     ]
    }
   ],
   "source": [
    "import glob\n",
    "import numpy as np\n",
    "import cv2\n",
    "import os\n",
    "\n",
    "def _load_npy_and_resize(path):\n",
    "    x = np.load(path)\n",
    "    x = cv2.resize(x, (224, 224))\n",
    "    return x\n",
    "\n",
    "root_dir = '/home/gianscarpe/dev/data/dataset/h5_dataset_7500_events/movements_per_frame'\n",
    "n_frames = len(os.listdir(root_dir))\n",
    "indexes = np.arange(n_frames)\n",
    "np.random.shuffle(indexes)\n",
    "\n",
    "SPLIT_AT = .8\n",
    "data_index = indexes[:int(.8 * n_frames)]\n",
    "train_index = data_index[:int(.8 * len(data_index))]\n",
    "val_index = data_index[int(.8 * len(data_index)):]\n",
    "test_index = indexes[int(SPLIT_AT * n_frames):]\n",
    "\n",
    "    \n",
    "x_paths = sorted(glob.glob(os.path.join(root_dir, \"*.npy\")))\n",
    "print(\"Start loading\")\n",
    "images = np.zeros((len(train_index), 224, 224, 4))\n",
    "for i, idx in enumerate(train_index):\n",
    "    path = x_paths[idx]\n",
    "    x = _load_npy_and_resize(path)\n",
    "    images[i] = x\n",
    "\n",
    "print(\"Finish loading\")\n"
   ]
  },
  {
   "cell_type": "code",
   "execution_count": 5,
   "metadata": {
    "collapsed": false
   },
   "outputs": [],
   "source": []
  },
  {
   "cell_type": "code",
   "execution_count": null,
   "metadata": {
    "collapsed": false
   },
   "outputs": [],
   "source": []
  },
  {
   "cell_type": "code",
   "execution_count": null,
   "metadata": {
    "collapsed": false
   },
   "outputs": [],
   "source": []
  }
 ],
 "metadata": {
  "kernelspec": {
   "argv": [
    "/home/gianscarpe/anaconda3/envs/event-camera/bin/python",
    "-m",
    "ipykernel_launcher",
    "-f",
    "{connection_file}"
   ],
   "display_name": "Python 3",
   "env": null,
   "interrupt_mode": "signal",
   "language": "python",
   "metadata": null,
   "name": "python3"
  },
  "name": "Untitled1.ipynb"
 },
 "nbformat": 4,
 "nbformat_minor": 4
}
